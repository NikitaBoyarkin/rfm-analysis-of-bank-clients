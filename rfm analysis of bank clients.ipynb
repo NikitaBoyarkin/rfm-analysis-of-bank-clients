{
 "cells": [
  {
   "cell_type": "markdown",
   "metadata": {},
   "source": [
    "# Описание проекта\n",
    "\n",
    "## Цели проекта\n",
    "\n",
    "Повышение эффективности клиентоориентированной стратегии банка через сегментацию клиентов на основе их поведения (RFM-анализ) для:\n",
    "\n",
    "- Увеличения удержания клиентов (Retention Rate).\n",
    "- Роста прибыльности за счет таргетированных предложений.\n",
    "- Снижения оттока (Churn Rate) в группах риска.\n",
    "\n",
    "## Задачи\n",
    "\n",
    "1. **Сбор и подготовка данных**:\n",
    "\n",
    "   - Получить исторические данные о транзакциях, продуктах, взаимодействиях клиентов за последние 12–24 месяца.\n",
    "   - Очистить данные от аномалий (например, тестовые операции, технические ошибки).\n",
    "\n",
    "2. **Расчет RFM-метрик**:\n",
    "\n",
    "   - **Recency (R)**: Как давно клиент совершал операции (дни с последней транзакции).\n",
    "   - **Frequency (F)**: Частота взаимодействий (число операций за период).\n",
    "   - **Monetary (M)**: Суммарный доход банка от клиента (комиссии, проценты по кредитам/депозитам).\n",
    "\n",
    "3. **Сегментация клиентов**:\n",
    "\n",
    "   - Разделить клиентов на группы по комбинациям R, F, M (например, «Лояльные», «Уходящие», «Спящие»).\n",
    "   - Выявить сегменты с наибольшим потенциалом для кросс-продаж.\n",
    "\n",
    "4. **Анализ сегментов**:\n",
    "\n",
    "   - Сравнить средние значения метрик (ARPU, LTV, Churn Rate) между сегментами.\n",
    "   - Изучить распределение клиентов по банковским продуктам (кредиты, вклады, карты).\n",
    "\n",
    "5. **Проверка гипотез**:\n",
    "\n",
    "   - Определить, какие гипотезы подтвердились, и сформулировать рекомендации.\n",
    "\n",
    "6. **Разработка рекомендаций**:\n",
    "   - Создать персонализированные маркетинговые кампании для каждого сегмента.\n",
    "   - Предложить условия для удержания клиентов из групп риска.\n",
    "\n",
    "## Гипотезы\n",
    "\n",
    "1. **Гипотеза 1**: Клиенты с высоким **Monetary** (M) чаще используют несколько продуктов банка (кредит + депозит + страхование).\n",
    "\n",
    "   - _Метод проверки_: Сравнение среднего числа продуктов в сегментах.\n",
    "\n",
    "2. **Гипотеза 2**: Клиенты с низким **Recency** (R ≤ 30 дней) имеют в 2 раза выше Retention Rate, чем клиенты с R > 90 дней.\n",
    "\n",
    "   - _Метод проверки_: Анализ Retention Rate за последний квартал.\n",
    "\n",
    "3. **Гипотеза 3**: Сегмент «Спящие клиенты» (R > 180 дней, F = 1) можно реактивировать email-рассылкой с персональными условиями.\n",
    "\n",
    "   - _Метод проверки_: A/B-тест с предложением бонусов за возврат.\n",
    "\n",
    "4. **Гипотеза 4**: Клиенты с высоким **Frequency** (F ≥ 5) более лояльны: их NPS на 20% выше, чем у клиентов с F ≤ 2.\n",
    "\n",
    "   - _Метод проверки_: Сопоставление данных RFM с опросами NPS.\n",
    "\n",
    "5. **Гипотеза 5**: Клиенты, пользующиеся мобильным банком, имеют более высокий **Monetary** за счет удобства совершения операций.\n",
    "   - _Метод проверки_: Сравнение M у пользователей мобильного банка и остальных.\n"
   ]
  },
  {
   "cell_type": "markdown",
   "metadata": {},
   "source": [
    "# Import\n"
   ]
  },
  {
   "cell_type": "code",
   "execution_count": 3,
   "metadata": {},
   "outputs": [],
   "source": [
    "# Импорт библиотек\n",
    "import pandas as pd\n",
    "import numpy as np\n",
    "import matplotlib.pyplot as plt\n",
    "import seaborn as sns\n",
    "from datetime import datetime, timedelta\n"
   ]
  },
  {
   "cell_type": "code",
   "execution_count": 4,
   "metadata": {},
   "outputs": [
    {
     "name": "stdout",
     "output_type": "stream",
     "text": [
      "customer_id: 10000\n",
      "transaction_date: 10000\n",
      "amount: 10000\n",
      "product_category: 10000\n",
      "payment_method: 10000\n",
      "is_anomaly: 10000\n",
      "\n",
      "Создано 10000 строк\n",
      "Пример данных:\n",
      "  customer_id     transaction_date    amount product_category  \\\n",
      "0   user_1127  2023-08-17 11:57:00  88883.49  Дебетовая карта   \n",
      "1   user_1460  2023-10-06 19:53:00   1129.72          Ипотека   \n",
      "2    user_861  2023-07-27 09:11:00   4600.01  Дебетовая карта   \n",
      "3   user_1295  2023-10-07 10:52:00    679.06      Страхование   \n",
      "4   user_1131  2024-01-27 10:56:00   3040.69           Кредит   \n",
      "\n",
      "       payment_method  is_anomaly  \n",
      "0               карта           0  \n",
      "1          Google Pay           0  \n",
      "2               карта           0  \n",
      "3               карта           0  \n",
      "4  банковский перевод           0  \n",
      "\n",
      "Файл 'bank_rfm_dataset_10k_fixed.csv' успешно создан!\n"
     ]
    }
   ],
   "source": [
    "# Настройки генерации\n",
    "np.random.seed(42)\n",
    "n_rows = 10000\n",
    "n_customers = 2000\n",
    "\n",
    "# Параметры продуктов и платежей\n",
    "products = ['Кредит', 'Дебетовая карта', 'Вклад', 'Страхование', 'Инвестиции', 'Ипотека']\n",
    "product_probs = [0.3, 0.25, 0.15, 0.1, 0.1, 0.1]\n",
    "\n",
    "payments = ['карта', 'Apple Pay', 'Google Pay', 'криптовалюта', 'банковский перевод']\n",
    "payment_probs = [0.5, 0.2, 0.15, 0.1, 0.05]\n",
    "\n",
    "# Генерация данных\n",
    "def generate_transaction_date():\n",
    "    return (datetime(2023, 1, 1) + \n",
    "           timedelta(\n",
    "               days=np.random.randint(0, 455),\n",
    "               hours=np.random.randint(9, 21),\n",
    "               minutes=np.random.randint(0, 60)\n",
    "           )).strftime('%Y-%m-%d %H:%M:%S')\n",
    "\n",
    "data = {\n",
    "    \"customer_id\": [f\"user_{np.random.randint(1, n_customers+1)}\" for _ in range(n_rows)],\n",
    "    \"transaction_date\": [generate_transaction_date() for _ in range(n_rows)],\n",
    "    \"amount\": np.round(\n",
    "        np.where(\n",
    "            np.random.rand(n_rows) < 0.05,\n",
    "            np.random.uniform(15000, 100000, n_rows),\n",
    "            np.random.exponential(scale=2500, size=n_rows) + 500\n",
    "        ), 2\n",
    "    ),\n",
    "    \"product_category\": np.random.choice(products, p=product_probs, size=n_rows),\n",
    "    \"payment_method\": np.random.choice(payments, p=payment_probs, size=n_rows),\n",
    "    \"is_anomaly\": np.where(np.random.rand(n_rows) < 0.05, 1, 0)\n",
    "}\n",
    "\n",
    "# Проверка длин\n",
    "for k, v in data.items():\n",
    "    print(f\"{k}: {len(v)}\")  # Все должны быть 10000\n",
    "\n",
    "# Создание DataFrame\n",
    "df = pd.DataFrame(data)\n",
    "\n",
    "# Проверка\n",
    "print(f\"\\nСоздано {len(df)} строк\")\n",
    "print(\"Пример данных:\")\n",
    "print(df.head())\n",
    "\n",
    "# Сохранение\n",
    "df.to_csv(\"bank_rfm_dataset_10k_fixed.csv\", index=False, encoding='utf-8-sig')\n",
    "print(\"\\nФайл 'bank_rfm_dataset_10k_fixed.csv' успешно создан!\")"
   ]
  },
  {
   "cell_type": "markdown",
   "metadata": {},
   "source": [
    "# первичный анализ\n"
   ]
  },
  {
   "cell_type": "code",
   "execution_count": 5,
   "metadata": {},
   "outputs": [
    {
     "data": {
      "text/html": [
       "<div>\n",
       "<style scoped>\n",
       "    .dataframe tbody tr th:only-of-type {\n",
       "        vertical-align: middle;\n",
       "    }\n",
       "\n",
       "    .dataframe tbody tr th {\n",
       "        vertical-align: top;\n",
       "    }\n",
       "\n",
       "    .dataframe thead th {\n",
       "        text-align: right;\n",
       "    }\n",
       "</style>\n",
       "<table border=\"1\" class=\"dataframe\">\n",
       "  <thead>\n",
       "    <tr style=\"text-align: right;\">\n",
       "      <th></th>\n",
       "      <th>customer_id</th>\n",
       "      <th>transaction_date</th>\n",
       "      <th>amount</th>\n",
       "      <th>product_category</th>\n",
       "      <th>payment_method</th>\n",
       "      <th>is_anomaly</th>\n",
       "    </tr>\n",
       "  </thead>\n",
       "  <tbody>\n",
       "    <tr>\n",
       "      <th>0</th>\n",
       "      <td>user_1127</td>\n",
       "      <td>2023-08-17 11:57:00</td>\n",
       "      <td>88883.49</td>\n",
       "      <td>Дебетовая карта</td>\n",
       "      <td>карта</td>\n",
       "      <td>0</td>\n",
       "    </tr>\n",
       "    <tr>\n",
       "      <th>1</th>\n",
       "      <td>user_1460</td>\n",
       "      <td>2023-10-06 19:53:00</td>\n",
       "      <td>1129.72</td>\n",
       "      <td>Ипотека</td>\n",
       "      <td>Google Pay</td>\n",
       "      <td>0</td>\n",
       "    </tr>\n",
       "    <tr>\n",
       "      <th>2</th>\n",
       "      <td>user_861</td>\n",
       "      <td>2023-07-27 09:11:00</td>\n",
       "      <td>4600.01</td>\n",
       "      <td>Дебетовая карта</td>\n",
       "      <td>карта</td>\n",
       "      <td>0</td>\n",
       "    </tr>\n",
       "    <tr>\n",
       "      <th>3</th>\n",
       "      <td>user_1295</td>\n",
       "      <td>2023-10-07 10:52:00</td>\n",
       "      <td>679.06</td>\n",
       "      <td>Страхование</td>\n",
       "      <td>карта</td>\n",
       "      <td>0</td>\n",
       "    </tr>\n",
       "    <tr>\n",
       "      <th>4</th>\n",
       "      <td>user_1131</td>\n",
       "      <td>2024-01-27 10:56:00</td>\n",
       "      <td>3040.69</td>\n",
       "      <td>Кредит</td>\n",
       "      <td>банковский перевод</td>\n",
       "      <td>0</td>\n",
       "    </tr>\n",
       "  </tbody>\n",
       "</table>\n",
       "</div>"
      ],
      "text/plain": [
       "  customer_id     transaction_date    amount product_category  \\\n",
       "0   user_1127  2023-08-17 11:57:00  88883.49  Дебетовая карта   \n",
       "1   user_1460  2023-10-06 19:53:00   1129.72          Ипотека   \n",
       "2    user_861  2023-07-27 09:11:00   4600.01  Дебетовая карта   \n",
       "3   user_1295  2023-10-07 10:52:00    679.06      Страхование   \n",
       "4   user_1131  2024-01-27 10:56:00   3040.69           Кредит   \n",
       "\n",
       "       payment_method  is_anomaly  \n",
       "0               карта           0  \n",
       "1          Google Pay           0  \n",
       "2               карта           0  \n",
       "3               карта           0  \n",
       "4  банковский перевод           0  "
      ]
     },
     "execution_count": 5,
     "metadata": {},
     "output_type": "execute_result"
    }
   ],
   "source": [
    "df.head()"
   ]
  },
  {
   "cell_type": "code",
   "execution_count": 6,
   "metadata": {},
   "outputs": [
    {
     "data": {
      "text/plain": [
       "(10000, 6)"
      ]
     },
     "execution_count": 6,
     "metadata": {},
     "output_type": "execute_result"
    }
   ],
   "source": [
    "df.shape"
   ]
  },
  {
   "cell_type": "code",
   "execution_count": 9,
   "metadata": {},
   "outputs": [
    {
     "data": {
      "text/html": [
       "<div>\n",
       "<style scoped>\n",
       "    .dataframe tbody tr th:only-of-type {\n",
       "        vertical-align: middle;\n",
       "    }\n",
       "\n",
       "    .dataframe tbody tr th {\n",
       "        vertical-align: top;\n",
       "    }\n",
       "\n",
       "    .dataframe thead th {\n",
       "        text-align: right;\n",
       "    }\n",
       "</style>\n",
       "<table border=\"1\" class=\"dataframe\">\n",
       "  <thead>\n",
       "    <tr style=\"text-align: right;\">\n",
       "      <th></th>\n",
       "      <th>count</th>\n",
       "      <th>mean</th>\n",
       "      <th>std</th>\n",
       "      <th>min</th>\n",
       "      <th>1%</th>\n",
       "      <th>5%</th>\n",
       "      <th>10%</th>\n",
       "      <th>20%</th>\n",
       "      <th>50%</th>\n",
       "      <th>90%</th>\n",
       "      <th>95%</th>\n",
       "      <th>99%</th>\n",
       "      <th>max</th>\n",
       "    </tr>\n",
       "  </thead>\n",
       "  <tbody>\n",
       "    <tr>\n",
       "      <th>amount</th>\n",
       "      <td>10000.0</td>\n",
       "      <td>5475.980234</td>\n",
       "      <td>12602.045051</td>\n",
       "      <td>500.23</td>\n",
       "      <td>526.8159</td>\n",
       "      <td>632.267</td>\n",
       "      <td>779.572</td>\n",
       "      <td>1083.346</td>\n",
       "      <td>2364.265</td>\n",
       "      <td>7599.6</td>\n",
       "      <td>15212.11</td>\n",
       "      <td>79855.7904</td>\n",
       "      <td>99645.41</td>\n",
       "    </tr>\n",
       "    <tr>\n",
       "      <th>is_anomaly</th>\n",
       "      <td>10000.0</td>\n",
       "      <td>0.047800</td>\n",
       "      <td>0.213353</td>\n",
       "      <td>0.00</td>\n",
       "      <td>0.0000</td>\n",
       "      <td>0.000</td>\n",
       "      <td>0.000</td>\n",
       "      <td>0.000</td>\n",
       "      <td>0.000</td>\n",
       "      <td>0.0</td>\n",
       "      <td>0.00</td>\n",
       "      <td>1.0000</td>\n",
       "      <td>1.00</td>\n",
       "    </tr>\n",
       "  </tbody>\n",
       "</table>\n",
       "</div>"
      ],
      "text/plain": [
       "              count         mean           std     min        1%       5%  \\\n",
       "amount      10000.0  5475.980234  12602.045051  500.23  526.8159  632.267   \n",
       "is_anomaly  10000.0     0.047800      0.213353    0.00    0.0000    0.000   \n",
       "\n",
       "                10%       20%       50%     90%       95%         99%  \\\n",
       "amount      779.572  1083.346  2364.265  7599.6  15212.11  79855.7904   \n",
       "is_anomaly    0.000     0.000     0.000     0.0      0.00      1.0000   \n",
       "\n",
       "                 max  \n",
       "amount      99645.41  \n",
       "is_anomaly      1.00  "
      ]
     },
     "execution_count": 9,
     "metadata": {},
     "output_type": "execute_result"
    }
   ],
   "source": [
    "df.describe([0.01, 0.05, 0.10, 0.20, 0.90, 0.95, 0.99]).T"
   ]
  },
  {
   "cell_type": "code",
   "execution_count": 11,
   "metadata": {},
   "outputs": [
    {
     "data": {
      "text/plain": [
       "customer_id          object\n",
       "transaction_date     object\n",
       "amount              float64\n",
       "product_category     object\n",
       "payment_method       object\n",
       "is_anomaly            int64\n",
       "dtype: object"
      ]
     },
     "execution_count": 11,
     "metadata": {},
     "output_type": "execute_result"
    }
   ],
   "source": [
    "df.dtypes"
   ]
  },
  {
   "cell_type": "code",
   "execution_count": 13,
   "metadata": {},
   "outputs": [
    {
     "data": {
      "text/plain": [
       "customer_id         0\n",
       "transaction_date    0\n",
       "amount              0\n",
       "product_category    0\n",
       "payment_method      0\n",
       "is_anomaly          0\n",
       "dtype: int64"
      ]
     },
     "execution_count": 13,
     "metadata": {},
     "output_type": "execute_result"
    }
   ],
   "source": [
    "df.isna().sum()"
   ]
  },
  {
   "cell_type": "code",
   "execution_count": 24,
   "metadata": {},
   "outputs": [],
   "source": [
    "customer_unique = pd.DataFrame(df['customer_id'].unique())"
   ]
  },
  {
   "cell_type": "code",
   "execution_count": 28,
   "metadata": {},
   "outputs": [
    {
     "data": {
      "text/plain": [
       "0    1987\n",
       "dtype: int64"
      ]
     },
     "execution_count": 28,
     "metadata": {},
     "output_type": "execute_result"
    }
   ],
   "source": [
    "customer_unique.count()"
   ]
  }
 ],
 "metadata": {
  "kernelspec": {
   "display_name": "Python 3",
   "language": "python",
   "name": "python3"
  },
  "language_info": {
   "codemirror_mode": {
    "name": "ipython",
    "version": 3
   },
   "file_extension": ".py",
   "mimetype": "text/x-python",
   "name": "python",
   "nbconvert_exporter": "python",
   "pygments_lexer": "ipython3",
   "version": "3.11.5"
  }
 },
 "nbformat": 4,
 "nbformat_minor": 2
}
