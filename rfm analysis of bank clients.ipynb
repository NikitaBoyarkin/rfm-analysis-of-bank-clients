{
 "cells": [
  {
   "cell_type": "markdown",
   "metadata": {},
   "source": [
    "# Описание проекта\n",
    "## Цели проекта\n",
    "Повышение эффективности клиентоориентированной стратегии банка через сегментацию клиентов на основе их поведения (RFM-анализ) для:  \n",
    "- Увеличения удержания клиентов (Retention Rate).  \n",
    "- Роста прибыльности за счет таргетированных предложений.  \n",
    "- Снижения оттока (Churn Rate) в группах риска.  \n",
    "## Задачи\n",
    "1. **Сбор и подготовка данных**:  \n",
    "   - Получить исторические данные о транзакциях, продуктах, взаимодействиях клиентов за последние 12–24 месяца.  \n",
    "   - Очистить данные от аномалий (например, тестовые операции, технические ошибки).  \n",
    "\n",
    "2. **Расчет RFM-метрик**:  \n",
    "   - **Recency (R)**: Как давно клиент совершал операции (дни с последней транзакции).  \n",
    "   - **Frequency (F)**: Частота взаимодействий (число операций за период).  \n",
    "   - **Monetary (M)**: Суммарный доход банка от клиента (комиссии, проценты по кредитам/депозитам).  \n",
    "\n",
    "3. **Сегментация клиентов**:  \n",
    "   - Разделить клиентов на группы по комбинациям R, F, M (например, «Лояльные», «Уходящие», «Спящие»).  \n",
    "   - Выявить сегменты с наибольшим потенциалом для кросс-продаж.  \n",
    "\n",
    "4. **Анализ сегментов**:  \n",
    "   - Сравнить средние значения метрик (ARPU, LTV, Churn Rate) между сегментами.  \n",
    "   - Изучить распределение клиентов по банковским продуктам (кредиты, вклады, карты).  \n",
    "\n",
    "5. **Проверка гипотез**:  \n",
    "   - Определить, какие гипотезы подтвердились, и сформулировать рекомендации.  \n",
    "\n",
    "6. **Разработка рекомендаций**:  \n",
    "   - Создать персонализированные маркетинговые кампании для каждого сегмента.  \n",
    "   - Предложить условия для удержания клиентов из групп риска.  \n",
    "## Гипотезы\n",
    "1. **Гипотеза 1**: Клиенты с высоким **Monetary** (M) чаще используют несколько продуктов банка (кредит + депозит + страхование).  \n",
    "   - *Метод проверки*: Сравнение среднего числа продуктов в сегментах.  \n",
    "\n",
    "2. **Гипотеза 2**: Клиенты с низким **Recency** (R ≤ 30 дней) имеют в 2 раза выше Retention Rate, чем клиенты с R > 90 дней.  \n",
    "   - *Метод проверки*: Анализ Retention Rate за последний квартал.  \n",
    "\n",
    "3. **Гипотеза 3**: Сегмент «Спящие клиенты» (R > 180 дней, F = 1) можно реактивировать email-рассылкой с персональными условиями.  \n",
    "   - *Метод проверки*: A/B-тест с предложением бонусов за возврат.  \n",
    "\n",
    "4. **Гипотеза 4**: Клиенты с высоким **Frequency** (F ≥ 5) более лояльны: их NPS на 20% выше, чем у клиентов с F ≤ 2.  \n",
    "   - *Метод проверки*: Сопоставление данных RFM с опросами NPS.  \n",
    "\n",
    "5. **Гипотеза 5**: Клиенты, пользующиеся мобильным банком, имеют более высокий **Monetary** за счет удобства совершения операций.  \n",
    "   - *Метод проверки*: Сравнение M у пользователей мобильного банка и остальных. "
   ]
  },
  {
   "cell_type": "markdown",
   "metadata": {},
   "source": [
    "# Import"
   ]
  },
  {
   "cell_type": "code",
   "execution_count": 3,
   "metadata": {},
   "outputs": [],
   "source": [
    "# Импорт библиотек\n",
    "import pandas as pd\n",
    "import numpy as np\n",
    "import matplotlib.pyplot as plt\n",
    "import seaborn as sns\n",
    "from datetime import datetime, timedelta"
   ]
  },
  {
   "cell_type": "code",
   "execution_count": 2,
   "metadata": {},
   "outputs": [
    {
     "ename": "SyntaxError",
     "evalue": "closing parenthesis ']' does not match opening parenthesis '(' on line 12 (898769766.py, line 16)",
     "output_type": "error",
     "traceback": [
      "\u001b[0;36m  Cell \u001b[0;32mIn[2], line 16\u001b[0;36m\u001b[0m\n\u001b[0;31m    ],\u001b[0m\n\u001b[0m    ^\u001b[0m\n\u001b[0;31mSyntaxError\u001b[0m\u001b[0;31m:\u001b[0m closing parenthesis ']' does not match opening parenthesis '(' on line 12\n"
     ]
    }
   ],
   "source": [
    "np.random.seed(42)\n",
    "n_rows = 5000\n",
    "\n",
    "# Генерация данных\n",
    "data = {\n",
    "    \"customer_id\": [f\"user_{np.random.randint(1, 1001)}\" for _ in range(n_rows)],\n",
    "    \"transaction_date\": [\n",
    "        (datetime(2023, 1, 1) + \n",
    "        timedelta(days=np.random.randint(0, 455), \n",
    "        hours=np.random.randint(9, 18))\n",
    "        for _ in range(n_rows)\n",
    "    ],\n",
    "    \"amount\": np.round(np.random.exponential(scale=1500, size=n_rows) + 100, 2),\n",
    "    \"product_category\": np.random.choice(\n",
    "        [\"Кредит\", \"Дебетовая карта\", \"Вклад\", \"Страхование\", \"Инвестиции\"],\n",
    "        p=[0.4, 0.3, 0.15, 0.1, 0.05]\n",
    "    ),\n",
    "    \"payment_method\": np.random.choice(\n",
    "        [\"карта\", \"Apple Pay\", \"Google Pay\", \"криптовалюта\"],\n",
    "        p=[0.55, 0.2, 0.15, 0.1]\n",
    "    ),\n",
    "    \"is_anomaly\": 0\n",
    "}\n",
    "\n",
    "df = pd.DataFrame(data)\n",
    "\n",
    "# Добавление аномалий (5% транзакций)\n",
    "anomaly_idx = np.random.choice(df.index, size=int(n_rows * 0.05), replace=False)\n",
    "df.loc[anomaly_idx, \"amount\"] = np.round(np.random.uniform(10000, 50000, len(anomaly_idx)), 2)\n",
    "df.loc[anomaly_idx, \"is_anomaly\"] = 1\n",
    "\n",
    "# Сохранение\n",
    "df.to_csv(\"bank_rfm_dataset.csv\", index=False, encoding=\"utf-8-sig\")"
   ]
  }
 ],
 "metadata": {
  "kernelspec": {
   "display_name": "Python 3",
   "language": "python",
   "name": "python3"
  },
  "language_info": {
   "codemirror_mode": {
    "name": "ipython",
    "version": 3
   },
   "file_extension": ".py",
   "mimetype": "text/x-python",
   "name": "python",
   "nbconvert_exporter": "python",
   "pygments_lexer": "ipython3",
   "version": "3.11.5"
  }
 },
 "nbformat": 4,
 "nbformat_minor": 2
}
